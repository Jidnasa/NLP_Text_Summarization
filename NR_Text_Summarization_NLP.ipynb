{
 "cells": [
  {
   "cell_type": "markdown",
   "metadata": {},
   "source": [
    "# Nafisur Rahman\n",
    "nafisur21@gmail.com<br>\n",
    "https://www.linkedin.com/in/nafisur-rahman"
   ]
  },
  {
   "cell_type": "markdown",
   "metadata": {},
   "source": [
    "# Auto-Summarize text using a Rule based model"
   ]
  },
  {
   "cell_type": "markdown",
   "metadata": {},
   "source": [
    "## Abstract Extraction\n",
    "A rule based approach for text summarization"
   ]
  },
  {
   "cell_type": "markdown",
   "metadata": {},
   "source": [
    "### Outline\n",
    "#### 1. Retrieve Text (Web Scraping)\n",
    "#### 2. Preprocessing\n",
    "#### 3. Extract Sentences\n"
   ]
  },
  {
   "cell_type": "markdown",
   "metadata": {},
   "source": [
    "### 1. Retrieve Text\n",
    "* Download and parse the text from webpage https://www.washingtonpost.com/news/the-switch/wp/2016/10/18/the-pentagons-massive-new-telescope-is-designed-to-track-space-junk-and-watch-out-for-killer-asteroids.<br>\n",
    "web scraping using BeatifulSoup"
   ]
  },
  {
   "cell_type": "markdown",
   "metadata": {},
   "source": [
    "* Importing Libraries"
   ]
  },
  {
   "cell_type": "code",
   "execution_count": 1,
   "metadata": {
    "collapsed": true
   },
   "outputs": [],
   "source": [
    "import urllib # help to download a web page\n",
    "from bs4 import BeautifulSoup # help to parse the webpage"
   ]
  },
  {
   "cell_type": "markdown",
   "metadata": {},
   "source": [
    "url of washington post is use for auto summarization task."
   ]
  },
  {
   "cell_type": "code",
   "execution_count": 2,
   "metadata": {
    "collapsed": true
   },
   "outputs": [],
   "source": [
    "articleURL = \"https://www.washingtonpost.com/news/the-switch/wp/2016/10/18/the-pentagons-massive-new-telescope-is-designed-to-track-space-junk-and-watch-out-for-killer-asteroids/\""
   ]
  },
  {
   "cell_type": "markdown",
   "metadata": {},
   "source": [
    "Downloading the webpage using urllib and save it in a variable named page."
   ]
  },
  {
   "cell_type": "code",
   "execution_count": 3,
   "metadata": {
    "collapsed": true
   },
   "outputs": [],
   "source": [
    "resp=urllib.request.urlopen(articleURL)\n",
    "page=resp.read().decode('utf8','ignore')\n"
   ]
  },
  {
   "cell_type": "markdown",
   "metadata": {},
   "source": [
    "Instantiate a BeautifulSoup object on page which will help to creates a tree structure within the page based on structure of the page."
   ]
  },
  {
   "cell_type": "code",
   "execution_count": 4,
   "metadata": {
    "collapsed": true
   },
   "outputs": [],
   "source": [
    "soup = BeautifulSoup(page,\"lxml\")\n"
   ]
  },
  {
   "cell_type": "markdown",
   "metadata": {},
   "source": [
    "The tree stucture can be searched for a specific tags.\n",
    "Note:- Open the webpage in another tab. Then right click any where on the page and select \"inspect\". Find the name of required tag from here."
   ]
  },
  {
   "cell_type": "markdown",
   "metadata": {},
   "source": [
    "First element of the tree with tag 'article'"
   ]
  },
  {
   "cell_type": "code",
   "execution_count": 5,
   "metadata": {},
   "outputs": [
    {
     "data": {
      "text/plain": [
       "\"      The Space Surveillance Telescope offers improvements in determining the orbits of newly discovered objects and provides rapid observations of events that may only occur over a relatively short period of time, like a supernova. (DARPAtv)    There are a lot of rocks flying around through space. Lots of debris, too. Old satellites, spent rocket boosters, even for a short while a spatula that got loose during a space shuttle mission in 2006. All of it swirling around in orbit, creating a bit of a traffic jam. For years, the Pentagon has been worried about the collisions that might be caused by an\\xa0estimated 500,000 pieces of debris, taking out enormously valuable satellites and, in turn, creating even more debris. On Tuesday, the Defense Department\\xa0took another significant step toward monitoring all of the cosmic junk swirling around in space, by delivering\\xa0a gigantic new telescope capable of seeing small objects from very far away. Developed by the Defense Advanced Research Project Agency, the Space Surveillance Telescope was formally transferred to the Air Force during a ceremony at White Sands Missile Base in New Mexico Tuesday. The telescope is designed to monitor objects as small as softballs, in Geosynchonous orbit (GEO)—some of the most important real estate in space. At about 22,000 miles away, its orbit mirrors that of the Earth, so that satellites parked there remain in a fixed point over the globe. That allows satellite television or communications providers to serve particular areas—say, North America or Asia—uninterrupted. But not only is the orbit far away—it’s incredibly vast. “A volume of tens of thousands of oceans,” said Lindsay Millard, DARPA’s program manager in a podcast posted on the agency’s website. But the telescope's ability to see “something very far away over a very wide area is really what it’s best at.” DARPA says the advanced technology in the massive, 90-ton telescope would\\xa0allow officials to go from “seeing only a few large objects at a time through the equivalent of a drinking straw to a windshield view with 10,000 objects at a time.”\\xa0It is also being used by NASA to monitor asteroids and other near-Earth objects that could collide with the planet, officials said. Over the next two years, the telescope is going to be moved and reconstructed in Australia, a vantage point that would allow it to survey an under served area of space. The telescope is “a big improvement over the legacy ground-based optical telescopes that are used by the U.S. Air Force, because it can search large areas of sky and also track very faint (small) objects in and around GEO,” Brian Weeden, a Technical Advisor at the Secure World Foundation, wrote in an email. “That's a critical capability for the U.S. military, as they have a lot of very important satellites in GEO, and are increasingly worried about threats to those satellites.” The telescope would\\xa0join another new space debris tracking technology known as the Space Fence, which is now being built by Bethesda-based Lockheed Martin. The radar system is going to be located on Kwajalein Atoll in the Marshall Islands and would use radar to help the Air Force track 10 times amount of debris than it currently monitors. With many valuable assets in space—satellites used for intelligence, communications and guiding weapons—the Pentagon has become increasingly concerned with what it calls “space situational awareness.” Instead of being a benign environment, the Pentagon likes to say that space has become “contested, congested and competitive.” In orbit, debris moves very fast, as much as 17,500 m.p.h., so that even a fleck of paint could cause damage. In 2007, the Chinese fired a missile that blew up a dead satellite and littered space with thousands of pieces of debris. And the Air Force has been working to make its satellites more resilient. It has plans to send swarms of small satellites into orbit that are more difficult to target. “Every military operation that takes place in the world today is critically dependent on space in one way or another,” Air Force Gen. John Hyten said in an interview earlier this year when he was the commander of the Air Force Space Command. “Whether our own people in the United States are fully cognizant of the dependence on space or not, the rest of the world has been watching us very closely.”\""
      ]
     },
     "execution_count": 5,
     "metadata": {},
     "output_type": "execute_result"
    }
   ],
   "source": [
    "soup.find('article')\n",
    "soup.find('article').text"
   ]
  },
  {
   "cell_type": "markdown",
   "metadata": {},
   "source": [
    "All the element within the page that have tag as 'article' into a list."
   ]
  },
  {
   "cell_type": "code",
   "execution_count": 6,
   "metadata": {},
   "outputs": [
    {
     "data": {
      "text/plain": [
       "[<article class=\"paywall\" itemprop=\"articleBody\"> <div class=\"inline-content inline-video\"> <div class=\"posttv-video-embed powa\" data-ad-bar=\"1\" data-aspect-ratio=\"0.5625\" data-blurb=\"1\" data-live=\"0\" data-object-id=\"580640a4e4b0d16481f68b07\" data-org=\"wapo\" data-playthrough=\"1\" data-uuid=\"24fd7912-9548-11e6-9cae-2a3574e296a6\" data-youtube-id=\"aGH_nLCOWOw\"> <script src=\"https://www.washingtonpost.com/player/prod/PoWaLoaderWapo.js?_=20180123\"></script> </div> <div class=\"inline-video-caption\"> <span class=\"pb-caption\">The Space Surveillance Telescope offers improvements in determining the orbits of newly discovered objects and provides rapid observations of events that may only occur over a relatively short period of time, like a supernova. (DARPAtv)</span> </div> </div> <div class=\"flex-embed-dummy-script\"><script charset=\"utf-8\"></script></div> <p>There are a lot of rocks flying around through space. Lots of debris, too. Old satellites, spent rocket boosters, even for a short while a spatula that got loose during a space shuttle mission in 2006. All of it swirling around in orbit, creating a bit of a traffic jam.</p> <p>For years, the Pentagon has been worried about the collisions that might be caused by an estimated 500,000 pieces of debris, taking out enormously valuable satellites and, in turn, creating even more debris. On Tuesday, the Defense Department took another significant step toward monitoring all of the cosmic junk swirling around in space, by delivering a gigantic new telescope capable of seeing small objects from very far away.</p> <p>Developed by the Defense Advanced Research Project Agency, the Space Surveillance Telescope was formally transferred to the Air Force during a ceremony at White Sands Missile Base in New Mexico Tuesday.</p> <p>The telescope is designed to monitor objects as small as softballs, in Geosynchonous orbit (GEO)—some of the most important real estate in space. At about 22,000 miles away, its orbit mirrors that of the Earth, so that satellites parked there remain in a fixed point over the globe. That allows satellite television or communications providers to serve particular areas—say, North America or Asia—uninterrupted.</p> <p>But not only is the orbit far away—it’s incredibly vast. “A volume of tens of thousands of oceans,” said Lindsay Millard, DARPA’s program manager in a podcast posted on the agency’s website. But the telescope's ability to see “something very far away over a very wide area is really what it’s best at.”</p> <p>DARPA says the advanced technology in the massive, 90-ton telescope would allow officials to go from “seeing only a few large objects at a time through the equivalent of a drinking straw to a windshield view with 10,000 objects at a time.” It is also being used by NASA to monitor asteroids and other near-Earth objects that could collide with the planet, officials said.</p> <p>Over the next two years, the telescope is going to be moved and reconstructed in Australia, a vantage point that would allow it to survey an under served area of space.</p> <p>The telescope is “a big improvement over the legacy ground-based optical telescopes that are used by the U.S. Air Force, because it can search large areas of sky and also track very faint (small) objects in and around GEO,” Brian Weeden, a Technical Advisor at the Secure World Foundation, wrote in an email. “That's a critical capability for the U.S. military, as they have a lot of very important satellites in GEO, and are increasingly worried about threats to those satellites.”</p> <p>The telescope would join another new space debris tracking technology known as the Space Fence, which is now being built by Bethesda-based Lockheed Martin. The radar system is going to be located on Kwajalein Atoll in the Marshall Islands and would use radar to help the Air Force track 10 times amount of debris than it currently monitors.</p> <p>With many valuable assets in space—satellites used for intelligence, communications and guiding weapons—the Pentagon has become increasingly concerned with what it calls “space situational awareness.” Instead of being a benign environment, the Pentagon likes to say that space has become “contested, congested and competitive.” In orbit, debris moves very fast, as much as 17,500 m.p.h., so that even a fleck of paint could cause damage.</p> <p>In 2007, the Chinese fired a missile that blew up a dead satellite and littered space with thousands of pieces of debris. And the Air Force has been working to make its satellites more resilient. It has plans to send swarms of small satellites into orbit that are more difficult to target.</p> <p>“Every military operation that takes place in the world today is critically dependent on space in one way or another,” Air Force Gen. John Hyten said in an interview earlier this year when he was the commander of the Air Force Space Command. “Whether our own people in the United States are fully cognizant of the dependence on space or not, the rest of the world has been watching us very closely.”</p></article>]"
      ]
     },
     "execution_count": 6,
     "metadata": {},
     "output_type": "execute_result"
    }
   ],
   "source": [
    "soup.find_all('article')"
   ]
  },
  {
   "cell_type": "code",
   "execution_count": 7,
   "metadata": {},
   "outputs": [
    {
     "data": {
      "text/plain": [
       "str"
      ]
     },
     "execution_count": 7,
     "metadata": {},
     "output_type": "execute_result"
    }
   ],
   "source": [
    "type(soup.find_all('article')[0].text)"
   ]
  },
  {
   "cell_type": "markdown",
   "metadata": {},
   "source": [
    "Complete text of the article"
   ]
  },
  {
   "cell_type": "code",
   "execution_count": 8,
   "metadata": {},
   "outputs": [
    {
     "data": {
      "text/plain": [
       "\"      The Space Surveillance Telescope offers improvements in determining the orbits of newly discovered objects and provides rapid observations of events that may only occur over a relatively short period of time, like a supernova. (DARPAtv)    There are a lot of rocks flying around through space. Lots of debris, too. Old satellites, spent rocket boosters, even for a short while a spatula that got loose during a space shuttle mission in 2006. All of it swirling around in orbit, creating a bit of a traffic jam. For years, the Pentagon has been worried about the collisions that might be caused by an\\xa0estimated 500,000 pieces of debris, taking out enormously valuable satellites and, in turn, creating even more debris. On Tuesday, the Defense Department\\xa0took another significant step toward monitoring all of the cosmic junk swirling around in space, by delivering\\xa0a gigantic new telescope capable of seeing small objects from very far away. Developed by the Defense Advanced Research Project Agency, the Space Surveillance Telescope was formally transferred to the Air Force during a ceremony at White Sands Missile Base in New Mexico Tuesday. The telescope is designed to monitor objects as small as softballs, in Geosynchonous orbit (GEO)—some of the most important real estate in space. At about 22,000 miles away, its orbit mirrors that of the Earth, so that satellites parked there remain in a fixed point over the globe. That allows satellite television or communications providers to serve particular areas—say, North America or Asia—uninterrupted. But not only is the orbit far away—it’s incredibly vast. “A volume of tens of thousands of oceans,” said Lindsay Millard, DARPA’s program manager in a podcast posted on the agency’s website. But the telescope's ability to see “something very far away over a very wide area is really what it’s best at.” DARPA says the advanced technology in the massive, 90-ton telescope would\\xa0allow officials to go from “seeing only a few large objects at a time through the equivalent of a drinking straw to a windshield view with 10,000 objects at a time.”\\xa0It is also being used by NASA to monitor asteroids and other near-Earth objects that could collide with the planet, officials said. Over the next two years, the telescope is going to be moved and reconstructed in Australia, a vantage point that would allow it to survey an under served area of space. The telescope is “a big improvement over the legacy ground-based optical telescopes that are used by the U.S. Air Force, because it can search large areas of sky and also track very faint (small) objects in and around GEO,” Brian Weeden, a Technical Advisor at the Secure World Foundation, wrote in an email. “That's a critical capability for the U.S. military, as they have a lot of very important satellites in GEO, and are increasingly worried about threats to those satellites.” The telescope would\\xa0join another new space debris tracking technology known as the Space Fence, which is now being built by Bethesda-based Lockheed Martin. The radar system is going to be located on Kwajalein Atoll in the Marshall Islands and would use radar to help the Air Force track 10 times amount of debris than it currently monitors. With many valuable assets in space—satellites used for intelligence, communications and guiding weapons—the Pentagon has become increasingly concerned with what it calls “space situational awareness.” Instead of being a benign environment, the Pentagon likes to say that space has become “contested, congested and competitive.” In orbit, debris moves very fast, as much as 17,500 m.p.h., so that even a fleck of paint could cause damage. In 2007, the Chinese fired a missile that blew up a dead satellite and littered space with thousands of pieces of debris. And the Air Force has been working to make its satellites more resilient. It has plans to send swarms of small satellites into orbit that are more difficult to target. “Every military operation that takes place in the world today is critically dependent on space in one way or another,” Air Force Gen. John Hyten said in an interview earlier this year when he was the commander of the Air Force Space Command. “Whether our own people in the United States are fully cognizant of the dependence on space or not, the rest of the world has been watching us very closely.”\""
      ]
     },
     "execution_count": 8,
     "metadata": {},
     "output_type": "execute_result"
    }
   ],
   "source": [
    "text=' '.join(map(lambda p: p.text,soup.find_all('article')))\n",
    "text"
   ]
  },
  {
   "cell_type": "markdown",
   "metadata": {},
   "source": [
    "Removing special character from the text"
   ]
  },
  {
   "cell_type": "code",
   "execution_count": 9,
   "metadata": {},
   "outputs": [
    {
     "data": {
      "text/plain": [
       "b\"      The Space Surveillance Telescope offers improvements in determining the orbits of newly discovered objects and provides rapid observations of events that may only occur over a relatively short period of time, like a supernova. (DARPAtv)    There are a lot of rocks flying around through space. Lots of debris, too. Old satellites, spent rocket boosters, even for a short while a spatula that got loose during a space shuttle mission in 2006. All of it swirling around in orbit, creating a bit of a traffic jam. For years, the Pentagon has been worried about the collisions that might be caused by an?estimated 500,000 pieces of debris, taking out enormously valuable satellites and, in turn, creating even more debris. On Tuesday, the Defense Department?took another significant step toward monitoring all of the cosmic junk swirling around in space, by delivering?a gigantic new telescope capable of seeing small objects from very far away. Developed by the Defense Advanced Research Project Agency, the Space Surveillance Telescope was formally transferred to the Air Force during a ceremony at White Sands Missile Base in New Mexico Tuesday. The telescope is designed to monitor objects as small as softballs, in Geosynchonous orbit (GEO)?some of the most important real estate in space. At about 22,000 miles away, its orbit mirrors that of the Earth, so that satellites parked there remain in a fixed point over the globe. That allows satellite television or communications providers to serve particular areas?say, North America or Asia?uninterrupted. But not only is the orbit far away?it?s incredibly vast. ?A volume of tens of thousands of oceans,? said Lindsay Millard, DARPA?s program manager in a podcast posted on the agency?s website. But the telescope's ability to see ?something very far away over a very wide area is really what it?s best at.? DARPA says the advanced technology in the massive, 90-ton telescope would?allow officials to go from ?seeing only a few large objects at a time through the equivalent of a drinking straw to a windshield view with 10,000 objects at a time.??It is also being used by NASA to monitor asteroids and other near-Earth objects that could collide with the planet, officials said. Over the next two years, the telescope is going to be moved and reconstructed in Australia, a vantage point that would allow it to survey an under served area of space. The telescope is ?a big improvement over the legacy ground-based optical telescopes that are used by the U.S. Air Force, because it can search large areas of sky and also track very faint (small) objects in and around GEO,? Brian Weeden, a Technical Advisor at the Secure World Foundation, wrote in an email. ?That's a critical capability for the U.S. military, as they have a lot of very important satellites in GEO, and are increasingly worried about threats to those satellites.? The telescope would?join another new space debris tracking technology known as the Space Fence, which is now being built by Bethesda-based Lockheed Martin. The radar system is going to be located on Kwajalein Atoll in the Marshall Islands and would use radar to help the Air Force track 10 times amount of debris than it currently monitors. With many valuable assets in space?satellites used for intelligence, communications and guiding weapons?the Pentagon has become increasingly concerned with what it calls ?space situational awareness.? Instead of being a benign environment, the Pentagon likes to say that space has become ?contested, congested and competitive.? In orbit, debris moves very fast, as much as 17,500 m.p.h., so that even a fleck of paint could cause damage. In 2007, the Chinese fired a missile that blew up a dead satellite and littered space with thousands of pieces of debris. And the Air Force has been working to make its satellites more resilient. It has plans to send swarms of small satellites into orbit that are more difficult to target. ?Every military operation that takes place in the world today is critically dependent on space in one way or another,? Air Force Gen. John Hyten said in an interview earlier this year when he was the commander of the Air Force Space Command. ?Whether our own people in the United States are fully cognizant of the dependence on space or not, the rest of the world has been watching us very closely.?\""
      ]
     },
     "execution_count": 9,
     "metadata": {},
     "output_type": "execute_result"
    }
   ],
   "source": [
    "text.encode('ascii', errors='replace')"
   ]
  },
  {
   "cell_type": "code",
   "execution_count": 10,
   "metadata": {},
   "outputs": [
    {
     "data": {
      "text/plain": [
       "\"      The Space Surveillance Telescope offers improvements in determining the orbits of newly discovered objects and provides rapid observations of events that may only occur over a relatively short period of time, like a supernova. (DARPAtv)    There are a lot of rocks flying around through space. Lots of debris, too. Old satellites, spent rocket boosters, even for a short while a spatula that got loose during a space shuttle mission in 2006. All of it swirling around in orbit, creating a bit of a traffic jam. For years, the Pentagon has been worried about the collisions that might be caused by an estimated 500,000 pieces of debris, taking out enormously valuable satellites and, in turn, creating even more debris. On Tuesday, the Defense Department took another significant step toward monitoring all of the cosmic junk swirling around in space, by delivering a gigantic new telescope capable of seeing small objects from very far away. Developed by the Defense Advanced Research Project Agency, the Space Surveillance Telescope was formally transferred to the Air Force during a ceremony at White Sands Missile Base in New Mexico Tuesday. The telescope is designed to monitor objects as small as softballs, in Geosynchonous orbit (GEO) some of the most important real estate in space. At about 22,000 miles away, its orbit mirrors that of the Earth, so that satellites parked there remain in a fixed point over the globe. That allows satellite television or communications providers to serve particular areas say, North America or Asia uninterrupted. But not only is the orbit far away it s incredibly vast.  A volume of tens of thousands of oceans,  said Lindsay Millard, DARPA s program manager in a podcast posted on the agency s website. But the telescope's ability to see  something very far away over a very wide area is really what it s best at.  DARPA says the advanced technology in the massive, 90-ton telescope would allow officials to go from  seeing only a few large objects at a time through the equivalent of a drinking straw to a windshield view with 10,000 objects at a time.  It is also being used by NASA to monitor asteroids and other near-Earth objects that could collide with the planet, officials said. Over the next two years, the telescope is going to be moved and reconstructed in Australia, a vantage point that would allow it to survey an under served area of space. The telescope is  a big improvement over the legacy ground-based optical telescopes that are used by the U.S. Air Force, because it can search large areas of sky and also track very faint (small) objects in and around GEO,  Brian Weeden, a Technical Advisor at the Secure World Foundation, wrote in an email.  That's a critical capability for the U.S. military, as they have a lot of very important satellites in GEO, and are increasingly worried about threats to those satellites.  The telescope would join another new space debris tracking technology known as the Space Fence, which is now being built by Bethesda-based Lockheed Martin. The radar system is going to be located on Kwajalein Atoll in the Marshall Islands and would use radar to help the Air Force track 10 times amount of debris than it currently monitors. With many valuable assets in space satellites used for intelligence, communications and guiding weapons the Pentagon has become increasingly concerned with what it calls  space situational awareness.  Instead of being a benign environment, the Pentagon likes to say that space has become  contested, congested and competitive.  In orbit, debris moves very fast, as much as 17,500 m.p.h., so that even a fleck of paint could cause damage. In 2007, the Chinese fired a missile that blew up a dead satellite and littered space with thousands of pieces of debris. And the Air Force has been working to make its satellites more resilient. It has plans to send swarms of small satellites into orbit that are more difficult to target.  Every military operation that takes place in the world today is critically dependent on space in one way or another,  Air Force Gen. John Hyten said in an interview earlier this year when he was the commander of the Air Force Space Command.  Whether our own people in the United States are fully cognizant of the dependence on space or not, the rest of the world has been watching us very closely. \""
      ]
     },
     "execution_count": 10,
     "metadata": {},
     "output_type": "execute_result"
    }
   ],
   "source": [
    "text.encode('ascii',errors='replace').decode('utf-8').replace('?',' ')"
   ]
  },
  {
   "cell_type": "markdown",
   "metadata": {},
   "source": [
    "### Define a function that will do all the above steps at one go"
   ]
  },
  {
   "cell_type": "code",
   "execution_count": 11,
   "metadata": {
    "collapsed": true
   },
   "outputs": [],
   "source": [
    "def getTextfromurl(url):\n",
    "    page = urllib.request.urlopen(url).read().decode('utf8')\n",
    "    soup = BeautifulSoup(page,\"lxml\")\n",
    "    text = ' '.join(map(lambda p: p.text, soup.find_all('article')))\n",
    "    return text.encode('ascii', errors='replace').decode('utf-8').replace(\"?\",\" \")"
   ]
  },
  {
   "cell_type": "code",
   "execution_count": 12,
   "metadata": {},
   "outputs": [
    {
     "data": {
      "text/plain": [
       "\"      The Space Surveillance Telescope offers improvements in determining the orbits of newly discovered objects and provides rapid observations of events that may only occur over a relatively short period of time, like a supernova. (DARPAtv)    There are a lot of rocks flying around through space. Lots of debris, too. Old satellites, spent rocket boosters, even for a short while a spatula that got loose during a space shuttle mission in 2006. All of it swirling around in orbit, creating a bit of a traffic jam. For years, the Pentagon has been worried about the collisions that might be caused by an estimated 500,000 pieces of debris, taking out enormously valuable satellites and, in turn, creating even more debris. On Tuesday, the Defense Department took another significant step toward monitoring all of the cosmic junk swirling around in space, by delivering a gigantic new telescope capable of seeing small objects from very far away. Developed by the Defense Advanced Research Project Agency, the Space Surveillance Telescope was formally transferred to the Air Force during a ceremony at White Sands Missile Base in New Mexico Tuesday. The telescope is designed to monitor objects as small as softballs, in Geosynchonous orbit (GEO) some of the most important real estate in space. At about 22,000 miles away, its orbit mirrors that of the Earth, so that satellites parked there remain in a fixed point over the globe. That allows satellite television or communications providers to serve particular areas say, North America or Asia uninterrupted. But not only is the orbit far away it s incredibly vast.  A volume of tens of thousands of oceans,  said Lindsay Millard, DARPA s program manager in a podcast posted on the agency s website. But the telescope's ability to see  something very far away over a very wide area is really what it s best at.  DARPA says the advanced technology in the massive, 90-ton telescope would allow officials to go from  seeing only a few large objects at a time through the equivalent of a drinking straw to a windshield view with 10,000 objects at a time.  It is also being used by NASA to monitor asteroids and other near-Earth objects that could collide with the planet, officials said. Over the next two years, the telescope is going to be moved and reconstructed in Australia, a vantage point that would allow it to survey an under served area of space. The telescope is  a big improvement over the legacy ground-based optical telescopes that are used by the U.S. Air Force, because it can search large areas of sky and also track very faint (small) objects in and around GEO,  Brian Weeden, a Technical Advisor at the Secure World Foundation, wrote in an email.  That's a critical capability for the U.S. military, as they have a lot of very important satellites in GEO, and are increasingly worried about threats to those satellites.  The telescope would join another new space debris tracking technology known as the Space Fence, which is now being built by Bethesda-based Lockheed Martin. The radar system is going to be located on Kwajalein Atoll in the Marshall Islands and would use radar to help the Air Force track 10 times amount of debris than it currently monitors. With many valuable assets in space satellites used for intelligence, communications and guiding weapons the Pentagon has become increasingly concerned with what it calls  space situational awareness.  Instead of being a benign environment, the Pentagon likes to say that space has become  contested, congested and competitive.  In orbit, debris moves very fast, as much as 17,500 m.p.h., so that even a fleck of paint could cause damage. In 2007, the Chinese fired a missile that blew up a dead satellite and littered space with thousands of pieces of debris. And the Air Force has been working to make its satellites more resilient. It has plans to send swarms of small satellites into orbit that are more difficult to target.  Every military operation that takes place in the world today is critically dependent on space in one way or another,  Air Force Gen. John Hyten said in an interview earlier this year when he was the commander of the Air Force Space Command.  Whether our own people in the United States are fully cognizant of the dependence on space or not, the rest of the world has been watching us very closely. \""
      ]
     },
     "execution_count": 12,
     "metadata": {},
     "output_type": "execute_result"
    }
   ],
   "source": [
    "text=getTextfromurl(articleURL)\n",
    "text"
   ]
  },
  {
   "cell_type": "markdown",
   "metadata": {},
   "source": [
    "### 2. Preprocessing"
   ]
  },
  {
   "cell_type": "code",
   "execution_count": 13,
   "metadata": {
    "collapsed": true
   },
   "outputs": [],
   "source": [
    "from nltk.corpus import stopwords\n",
    "from string import punctuation\n",
    "Cstopwords=set(stopwords.words('english')+list(punctuation))"
   ]
  },
  {
   "cell_type": "markdown",
   "metadata": {},
   "source": [
    "Removing stopwords"
   ]
  },
  {
   "cell_type": "code",
   "execution_count": 14,
   "metadata": {},
   "outputs": [],
   "source": [
    "from nltk.tokenize import word_tokenize\n",
    "words=[w for w in word_tokenize(text.lower()) if w not in Cstopwords]\n"
   ]
  },
  {
   "cell_type": "markdown",
   "metadata": {},
   "source": [
    "### 3. Extract Sentences"
   ]
  },
  {
   "cell_type": "markdown",
   "metadata": {},
   "source": [
    "* Abstract Extraction:- A rule based approach for text summarization"
   ]
  },
  {
   "cell_type": "markdown",
   "metadata": {},
   "source": [
    "Steps:-\n",
    "1. Find the most important word<br>\n",
    "word importance= word frequency\n",
    "2. Compute a significance score for sentences based on words they contain.<br>\n",
    "significance score=sum(word importance)\n",
    "3. Pick the top most significant sentences"
   ]
  },
  {
   "cell_type": "markdown",
   "metadata": {},
   "source": [
    "Frequency distribution of words"
   ]
  },
  {
   "cell_type": "code",
   "execution_count": 15,
   "metadata": {
    "collapsed": true
   },
   "outputs": [],
   "source": [
    "from nltk.probability import FreqDist\n",
    "dist=FreqDist(words)"
   ]
  },
  {
   "cell_type": "code",
   "execution_count": 16,
   "metadata": {},
   "outputs": [
    {
     "data": {
      "text/plain": [
       "dict_keys(['space', 'surveillance', 'telescope', 'offers', 'improvements', 'determining', 'orbits', 'newly', 'discovered', 'objects', 'provides', 'rapid', 'observations', 'events', 'may', 'occur', 'relatively', 'short', 'period', 'time', 'like', 'supernova', 'darpatv', 'lot', 'rocks', 'flying', 'around', 'lots', 'debris', 'old', 'satellites', 'spent', 'rocket', 'boosters', 'even', 'spatula', 'got', 'loose', 'shuttle', 'mission', '2006.', 'swirling', 'orbit', 'creating', 'bit', 'traffic', 'jam', 'years', 'pentagon', 'worried', 'collisions', 'might', 'caused', 'estimated', '500,000', 'pieces', 'taking', 'enormously', 'valuable', 'turn', 'tuesday', 'defense', 'department', 'took', 'another', 'significant', 'step', 'toward', 'monitoring', 'cosmic', 'junk', 'delivering', 'gigantic', 'new', 'capable', 'seeing', 'small', 'far', 'away', 'developed', 'advanced', 'research', 'project', 'agency', 'formally', 'transferred', 'air', 'force', 'ceremony', 'white', 'sands', 'missile', 'base', 'mexico', 'designed', 'monitor', 'softballs', 'geosynchonous', 'geo', 'important', 'real', 'estate', '22,000', 'miles', 'mirrors', 'earth', 'parked', 'remain', 'fixed', 'point', 'globe', 'allows', 'satellite', 'television', 'communications', 'providers', 'serve', 'particular', 'areas', 'say', 'north', 'america', 'asia', 'uninterrupted', 'incredibly', 'vast', 'volume', 'tens', 'thousands', 'oceans', 'said', 'lindsay', 'millard', 'darpa', 'program', 'manager', 'podcast', 'posted', 'website', \"'s\", 'ability', 'see', 'something', 'wide', 'area', 'really', 'best', 'says', 'technology', 'massive', '90-ton', 'would', 'allow', 'officials', 'go', 'large', 'equivalent', 'drinking', 'straw', 'windshield', 'view', '10,000', 'also', 'used', 'nasa', 'asteroids', 'near-earth', 'could', 'collide', 'planet', 'next', 'two', 'going', 'moved', 'reconstructed', 'australia', 'vantage', 'survey', 'served', 'big', 'improvement', 'legacy', 'ground-based', 'optical', 'telescopes', 'u.s.', 'search', 'sky', 'track', 'faint', 'brian', 'weeden', 'technical', 'advisor', 'secure', 'world', 'foundation', 'wrote', 'email', 'critical', 'capability', 'military', 'increasingly', 'threats', 'join', 'tracking', 'known', 'fence', 'built', 'bethesda-based', 'lockheed', 'martin', 'radar', 'system', 'located', 'kwajalein', 'atoll', 'marshall', 'islands', 'use', 'help', '10', 'times', 'amount', 'currently', 'monitors', 'many', 'assets', 'intelligence', 'guiding', 'weapons', 'become', 'concerned', 'calls', 'situational', 'awareness', 'instead', 'benign', 'environment', 'likes', 'contested', 'congested', 'competitive', 'moves', 'fast', 'much', '17,500', 'm.p.h.', 'fleck', 'paint', 'cause', 'damage', '2007', 'chinese', 'fired', 'blew', 'dead', 'littered', 'working', 'make', 'resilient', 'plans', 'send', 'swarms', 'difficult', 'target', 'every', 'operation', 'takes', 'place', 'today', 'critically', 'dependent', 'one', 'way', 'gen.', 'john', 'hyten', 'interview', 'earlier', 'year', 'commander', 'command', 'whether', 'people', 'united', 'states', 'fully', 'cognizant', 'dependence', 'rest', 'watching', 'us', 'closely'])"
      ]
     },
     "execution_count": 16,
     "metadata": {},
     "output_type": "execute_result"
    }
   ],
   "source": [
    "dist.keys()"
   ]
  },
  {
   "cell_type": "code",
   "execution_count": 17,
   "metadata": {},
   "outputs": [
    {
     "data": {
      "text/plain": [
       "6"
      ]
     },
     "execution_count": 17,
     "metadata": {},
     "output_type": "execute_result"
    }
   ],
   "source": [
    "dist['air']"
   ]
  },
  {
   "cell_type": "markdown",
   "metadata": {},
   "source": [
    "Top ten most frequent words in this article"
   ]
  },
  {
   "cell_type": "code",
   "execution_count": 18,
   "metadata": {},
   "outputs": [
    {
     "data": {
      "text/plain": [
       "[('space', 16),\n",
       " ('telescope', 9),\n",
       " ('satellites', 8),\n",
       " ('objects', 7),\n",
       " ('debris', 7),\n",
       " ('orbit', 6),\n",
       " ('air', 6),\n",
       " ('force', 6),\n",
       " ('around', 4),\n",
       " ('small', 4)]"
      ]
     },
     "execution_count": 18,
     "metadata": {},
     "output_type": "execute_result"
    }
   ],
   "source": [
    "dist.most_common(n=10)"
   ]
  },
  {
   "cell_type": "code",
   "execution_count": 19,
   "metadata": {},
   "outputs": [
    {
     "data": {
      "text/plain": [
       "['space',\n",
       " 'telescope',\n",
       " 'satellites',\n",
       " 'objects',\n",
       " 'debris',\n",
       " 'orbit',\n",
       " 'air',\n",
       " 'force',\n",
       " 'around',\n",
       " 'small']"
      ]
     },
     "execution_count": 19,
     "metadata": {},
     "output_type": "execute_result"
    }
   ],
   "source": [
    "from heapq import nlargest\n",
    "nlargest(10, dist, key=dist.get)"
   ]
  },
  {
   "cell_type": "markdown",
   "metadata": {},
   "source": [
    "Alternate method"
   ]
  },
  {
   "cell_type": "code",
   "execution_count": 20,
   "metadata": {},
   "outputs": [
    {
     "data": {
      "text/plain": [
       "['space',\n",
       " 'telescope',\n",
       " 'satellites',\n",
       " 'objects',\n",
       " 'debris',\n",
       " 'orbit',\n",
       " 'air',\n",
       " 'force',\n",
       " 'around',\n",
       " 'small']"
      ]
     },
     "execution_count": 20,
     "metadata": {},
     "output_type": "execute_result"
    }
   ],
   "source": [
    "#top ten most common words\n",
    "sorted(dist,key=dist.get,reverse=True)[:10]"
   ]
  },
  {
   "cell_type": "markdown",
   "metadata": {},
   "source": [
    "* Computing significance score"
   ]
  },
  {
   "cell_type": "markdown",
   "metadata": {},
   "source": [
    "Spliting the article into sentences"
   ]
  },
  {
   "cell_type": "code",
   "execution_count": 21,
   "metadata": {},
   "outputs": [
    {
     "data": {
      "text/plain": [
       "29"
      ]
     },
     "execution_count": 21,
     "metadata": {},
     "output_type": "execute_result"
    }
   ],
   "source": [
    "from nltk.tokenize import sent_tokenize\n",
    "word_sents=sent_tokenize(text)\n",
    "len(word_sents)"
   ]
  },
  {
   "cell_type": "markdown",
   "metadata": {},
   "source": [
    "Creating dictionary with <br>\n",
    "keys-> Sentences<br>\n",
    "Values-> Significance Scores"
   ]
  },
  {
   "cell_type": "markdown",
   "metadata": {},
   "source": [
    "defaultdict is special type of dict. It will not through an error if the key is not present, it will simply add a new key to dictionary.<br>\n",
    "If you lookup a non-existent key, it's added to the dictionary"
   ]
  },
  {
   "cell_type": "code",
   "execution_count": 22,
   "metadata": {},
   "outputs": [
    {
     "data": {
      "text/plain": [
       "defaultdict(int,\n",
       "            {0: 55,\n",
       "             1: 25,\n",
       "             2: 8,\n",
       "             3: 38,\n",
       "             4: 17,\n",
       "             5: 46,\n",
       "             6: 72,\n",
       "             7: 62,\n",
       "             8: 54,\n",
       "             9: 28,\n",
       "             10: 17,\n",
       "             11: 15,\n",
       "             12: 19,\n",
       "             13: 26,\n",
       "             14: 57,\n",
       "             15: 26,\n",
       "             16: 47,\n",
       "             17: 72,\n",
       "             18: 36,\n",
       "             19: 68,\n",
       "             20: 44,\n",
       "             21: 63,\n",
       "             22: 30,\n",
       "             23: 27,\n",
       "             24: 37,\n",
       "             25: 23,\n",
       "             26: 23,\n",
       "             27: 84,\n",
       "             28: 30})"
      ]
     },
     "execution_count": 22,
     "metadata": {},
     "output_type": "execute_result"
    }
   ],
   "source": [
    "from collections import defaultdict\n",
    "ranking = defaultdict(int)\n",
    "\n",
    "for i,sent in enumerate(word_sents):\n",
    "    #print(i,sent)\n",
    "    for w in word_tokenize(sent.lower()):\n",
    "        if w in dist:\n",
    "            ranking[i] += dist[w]\n",
    "            \n",
    "ranking\n",
    "    "
   ]
  },
  {
   "cell_type": "markdown",
   "metadata": {},
   "source": [
    "Top 4 sentences based on significance score"
   ]
  },
  {
   "cell_type": "code",
   "execution_count": 23,
   "metadata": {},
   "outputs": [
    {
     "data": {
      "text/plain": [
       "[27, 6, 17, 19]"
      ]
     },
     "execution_count": 23,
     "metadata": {},
     "output_type": "execute_result"
    }
   ],
   "source": [
    "sents_idx = nlargest(4, ranking, key=ranking.get)\n",
    "sents_idx"
   ]
  },
  {
   "cell_type": "markdown",
   "metadata": {},
   "source": [
    "Summary of the article in four sentences"
   ]
  },
  {
   "cell_type": "code",
   "execution_count": 24,
   "metadata": {},
   "outputs": [
    {
     "data": {
      "text/plain": [
       "['On Tuesday, the Defense Department took another significant step toward monitoring all of the cosmic junk swirling around in space, by delivering a gigantic new telescope capable of seeing small objects from very far away.',\n",
       " 'The telescope is  a big improvement over the legacy ground-based optical telescopes that are used by the U.S. Air Force, because it can search large areas of sky and also track very faint (small) objects in and around GEO,  Brian Weeden, a Technical Advisor at the Secure World Foundation, wrote in an email.',\n",
       " 'The telescope would join another new space debris tracking technology known as the Space Fence, which is now being built by Bethesda-based Lockheed Martin.',\n",
       " 'Every military operation that takes place in the world today is critically dependent on space in one way or another,  Air Force Gen. John Hyten said in an interview earlier this year when he was the commander of the Air Force Space Command.']"
      ]
     },
     "execution_count": 24,
     "metadata": {},
     "output_type": "execute_result"
    }
   ],
   "source": [
    "[word_sents[j] for j in sorted(sents_idx)]"
   ]
  },
  {
   "cell_type": "markdown",
   "metadata": {},
   "source": [
    "### Define a function that will summarize a given text at one go"
   ]
  },
  {
   "cell_type": "code",
   "execution_count": 25,
   "metadata": {
    "collapsed": true
   },
   "outputs": [],
   "source": [
    "from nltk.corpus import stopwords\n",
    "def summarize(text, n):\n",
    "    sents = sent_tokenize(text)\n",
    "    \n",
    "    assert n <= len(sents)\n",
    "    word_sent = word_tokenize(text.lower())\n",
    "    _stopwords = set(stopwords.words('english') + list(punctuation))\n",
    "    \n",
    "    word_sent=[word for word in word_sent if word not in _stopwords]\n",
    "    freq = FreqDist(word_sent)\n",
    "    \n",
    "    \n",
    "    ranking = defaultdict(int)\n",
    "    \n",
    "    for i,sent in enumerate(sents):\n",
    "        for w in word_tokenize(sent.lower()):\n",
    "            if w in freq:\n",
    "                ranking[i] += freq[w]\n",
    "             \n",
    "        \n",
    "    sents_idx = nlargest(n, ranking, key=ranking.get)\n",
    "    return [sents[j] for j in sorted(sents_idx)]"
   ]
  },
  {
   "cell_type": "code",
   "execution_count": 26,
   "metadata": {},
   "outputs": [
    {
     "data": {
      "text/plain": [
       "['On Tuesday, the Defense Department took another significant step toward monitoring all of the cosmic junk swirling around in space, by delivering a gigantic new telescope capable of seeing small objects from very far away.',\n",
       " 'The telescope is  a big improvement over the legacy ground-based optical telescopes that are used by the U.S. Air Force, because it can search large areas of sky and also track very faint (small) objects in and around GEO,  Brian Weeden, a Technical Advisor at the Secure World Foundation, wrote in an email.',\n",
       " 'Every military operation that takes place in the world today is critically dependent on space in one way or another,  Air Force Gen. John Hyten said in an interview earlier this year when he was the commander of the Air Force Space Command.']"
      ]
     },
     "execution_count": 26,
     "metadata": {},
     "output_type": "execute_result"
    }
   ],
   "source": [
    "summarize(text,3)"
   ]
  },
  {
   "cell_type": "markdown",
   "metadata": {},
   "source": [
    "## Final Summary with two function"
   ]
  },
  {
   "cell_type": "markdown",
   "metadata": {},
   "source": [
    "## Final take away"
   ]
  },
  {
   "cell_type": "code",
   "execution_count": 27,
   "metadata": {
    "collapsed": true
   },
   "outputs": [],
   "source": [
    "# For a given article url\n",
    "articleURL = \"https://www.washingtonpost.com/news/the-switch/wp/2016/10/18/the-pentagons-massive-new-telescope-is-designed-to-track-space-junk-and-watch-out-for-killer-asteroids/\""
   ]
  },
  {
   "cell_type": "code",
   "execution_count": 28,
   "metadata": {
    "collapsed": true
   },
   "outputs": [],
   "source": [
    "import urllib\n",
    "from bs4 import BeautifulSoup\n",
    "from nltk.corpus import stopwords\n",
    "from nltk.tokenize import word_tokenize,sent_tokenize\n",
    "from string import punctuation\n",
    "from nltk.probability import FreqDist\n",
    "from heapq import nlargest\n",
    "from collections import defaultdict\n",
    "def getTextfromurl(url):\n",
    "    page = urllib.request.urlopen(url).read().decode('utf8')\n",
    "    soup = BeautifulSoup(page,\"lxml\")\n",
    "    text = ' '.join(map(lambda p: p.text, soup.find_all('article')))\n",
    "    return text.encode('ascii', errors='replace').decode('utf-8').replace(\"?\",\" \")\n",
    "\n",
    "def summarize(text, n):\n",
    "    sents = sent_tokenize(text)\n",
    "    \n",
    "    assert n <= len(sents)\n",
    "    word_sent = word_tokenize(text.lower())\n",
    "    _stopwords = set(stopwords.words('english') + list(punctuation))\n",
    "    \n",
    "    word_sent=[word for word in word_sent if word not in _stopwords]\n",
    "    freq = FreqDist(word_sent)\n",
    "    \n",
    "    \n",
    "    ranking = defaultdict(int)\n",
    "    \n",
    "    for i,sent in enumerate(sents):\n",
    "        for w in word_tokenize(sent.lower()):\n",
    "            if w in freq:\n",
    "                ranking[i] += freq[w]\n",
    "             \n",
    "        \n",
    "    sents_idx = nlargest(n, ranking, key=ranking.get)\n",
    "    return [sents[j] for j in sorted(sents_idx)]"
   ]
  },
  {
   "cell_type": "code",
   "execution_count": 29,
   "metadata": {},
   "outputs": [
    {
     "data": {
      "text/plain": [
       "['On Tuesday, the Defense Department took another significant step toward monitoring all of the cosmic junk swirling around in space, by delivering a gigantic new telescope capable of seeing small objects from very far away.',\n",
       " 'The telescope is  a big improvement over the legacy ground-based optical telescopes that are used by the U.S. Air Force, because it can search large areas of sky and also track very faint (small) objects in and around GEO,  Brian Weeden, a Technical Advisor at the Secure World Foundation, wrote in an email.',\n",
       " 'Every military operation that takes place in the world today is critically dependent on space in one way or another,  Air Force Gen. John Hyten said in an interview earlier this year when he was the commander of the Air Force Space Command.']"
      ]
     },
     "execution_count": 29,
     "metadata": {},
     "output_type": "execute_result"
    }
   ],
   "source": [
    "text=getTextfromurl(articleURL)\n",
    "summarize(text,3)\n"
   ]
  },
  {
   "cell_type": "code",
   "execution_count": null,
   "metadata": {
    "collapsed": true
   },
   "outputs": [],
   "source": []
  }
 ],
 "metadata": {
  "kernelspec": {
   "display_name": "Python 3",
   "language": "python",
   "name": "python3"
  },
  "language_info": {
   "codemirror_mode": {
    "name": "ipython",
    "version": 3
   },
   "file_extension": ".py",
   "mimetype": "text/x-python",
   "name": "python",
   "nbconvert_exporter": "python",
   "pygments_lexer": "ipython3",
   "version": "3.6.3"
  }
 },
 "nbformat": 4,
 "nbformat_minor": 2
}
